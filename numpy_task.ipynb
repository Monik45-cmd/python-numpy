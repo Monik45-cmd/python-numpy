{
 "cells": [
  {
   "cell_type": "code",
   "execution_count": 1,
   "metadata": {},
   "outputs": [
    {
     "name": "stdout",
     "output_type": "stream",
     "text": [
      "array1_2d: [[[1 2]]\n",
      "\n",
      " [[4 5]]]\n",
      "array2_2d: [[[ 0.  5. 10.]]\n",
      "\n",
      " [[11. 16. 21.]]]\n",
      "array1_3d: [[[array([1, 2, 3])]\n",
      "  [array([4, 5, 6])]]\n",
      "\n",
      " [[array([7, 8, 9])]\n",
      "  [array([], dtype=int32)]]]\n",
      "array2_3d: [[[ 0.          5.45454545]\n",
      "  [10.90909091 16.36363636]\n",
      "  [21.81818182 27.27272727]]\n",
      "\n",
      " [[32.72727273 38.18181818]\n",
      "  [43.63636364 49.09090909]\n",
      "  [54.54545455 60.        ]]]\n"
     ]
    },
    {
     "name": "stderr",
     "output_type": "stream",
     "text": [
      "<ipython-input-1-cab2867725a8>:6: VisibleDeprecationWarning: Creating an ndarray from ragged nested sequences (which is a list-or-tuple of lists-or-tuples-or ndarrays with different lengths or shapes) is deprecated. If you meant to do this, you must specify 'dtype=object' when creating the ndarray\n",
      "  c=np.array([[[np.arange(1,4)],[np.arange(4,7)]],[[np.arange(7,10)],[np.arange(10,1)]]])\n"
     ]
    }
   ],
   "source": [
    "import numpy as np\n",
    "a= np.array([[np.arange(1,3)],[np.arange(4,6)]])\n",
    "print('array1_2d:',a)# 2d array arange\n",
    "b= np.array([[np.linspace(0,10,3)],[np.linspace(11,21,3)]])\n",
    "print('array2_2d:',b) #2d array linspace\n",
    "c=np.array([[[np.arange(1,4)],[np.arange(4,7)]],[[np.arange(7,10)],[np.arange(10,1)]]])\n",
    "print('array1_3d:',c) #3d array arange\n",
    "d=np.array([np.linspace(0,60,12)])\n",
    "print('array2_3d:',d.reshape(2,3,2)) #3d array linspace"
   ]
  },
  {
   "cell_type": "code",
   "execution_count": 2,
   "metadata": {},
   "outputs": [
    {
     "name": "stdout",
     "output_type": "stream",
     "text": [
      "array: [12 13 14 15 16 17 18 19 20 21 22 23 24 25 26 27 28 29 30 31 32 33 34 35\n",
      " 36 37]\n",
      "reverse array: [37 36 35 34 33 32 31 30 29 28 27 26 25 24 23 22 21 20 19 18 17 16 15 14\n",
      " 13 12]\n"
     ]
    }
   ],
   "source": [
    "#2. Write a NumPy program to reverse an array (first element becomes last).\n",
    "a=np.array(np.arange(12,38))\n",
    "print('array:',a)\n",
    "print('reverse array:',a[::-1])"
   ]
  },
  {
   "cell_type": "code",
   "execution_count": 3,
   "metadata": {},
   "outputs": [
    {
     "name": "stdout",
     "output_type": "stream",
     "text": [
      "size of array: 5\n",
      "length of one array element in bytes: 4\n",
      "total bytes consumed by the elements of the array: 20\n"
     ]
    }
   ],
   "source": [
    "# 3. Write a NumPy program to find the number of elements of an array, length of array and bytes of array\n",
    "a=np.array(np.arange(1,6))\n",
    "print('size of array:',a.size)\n",
    "print('length of one array element in bytes:',a.itemsize)\n",
    "print('total bytes consumed by the elements of the array:',a.nbytes)\n"
   ]
  },
  {
   "cell_type": "code",
   "execution_count": 4,
   "metadata": {},
   "outputs": [
    {
     "name": "stdout",
     "output_type": "stream",
     "text": [
      "original: [0 1 2]\n",
      "repit 2 time: [0 1 2 0 1 2]\n",
      "repit 3 time: [0 1 2 0 1 2 0 1 2]\n"
     ]
    }
   ],
   "source": [
    "#4. Write a NumPy program to construct an array by repeating\n",
    "a=np.array([0,1,2])\n",
    "print('original:',a)\n",
    "print('repit 2 time:',np.tile(a,2))\n",
    "print('repit 3 time:',np.tile(a,3))"
   ]
  },
  {
   "cell_type": "code",
   "execution_count": 5,
   "metadata": {},
   "outputs": [
    {
     "name": "stdout",
     "output_type": "stream",
     "text": [
      "a= [0 0 0 0]\n",
      "b= [1 1 1 2 2 2 3 3 3 4 4 4]\n"
     ]
    }
   ],
   "source": [
    "\n",
    "#5. Write a NumPy program to repeat elements of an array.\n",
    "\n",
    "a=np.array([0])\n",
    "print('a=',np.repeat(a,4))\n",
    "b=np.array([1,2,3,4])\n",
    "print('b=',np.repeat(b,3))"
   ]
  },
  {
   "cell_type": "code",
   "execution_count": 6,
   "metadata": {},
   "outputs": [
    {
     "name": "stdout",
     "output_type": "stream",
     "text": [
      "[[2 2 2 2 2]\n",
      " [2 2 2 2 2]\n",
      " [2 2 2 2 2]]\n"
     ]
    }
   ],
   "source": [
    "#6. Write a NumPy program to create a new array of 3*5, filled with 2.\n",
    "\n",
    "a=np.full((3, 5), 2)\n",
    "print(a)\n"
   ]
  },
  {
   "cell_type": "code",
   "execution_count": 8,
   "metadata": {},
   "outputs": [
    {
     "name": "stdout",
     "output_type": "stream",
     "text": [
      "a before: [0 1 2]\n",
      "after append a: [0 1 2 3 4 5 6 7 8]\n"
     ]
    }
   ],
   "source": [
    "#8. Write a NumPy program to append values to the end of an array.\n",
    "\n",
    "a=np.array([0,1,2])\n",
    "print('a before:',a)\n",
    "a=np.append(a,[3,4,5,6,7,8])\n",
    "print('after append a:',a)\n"
   ]
  },
  {
   "cell_type": "code",
   "execution_count": 9,
   "metadata": {},
   "outputs": [
    {
     "name": "stdout",
     "output_type": "stream",
     "text": [
      "a: [0 1 2 3 4]\n",
      "b: [0 2 4]\n",
      "[ True False  True False  True]\n"
     ]
    }
   ],
   "source": [
    "# one array element present in second array check.\n",
    "\n",
    "a=np.array([0,1,2,3,4])\n",
    "b=np.array([0,2,4])\n",
    "print('a:',a)\n",
    "print('b:',b)\n",
    "print(np.in1d(a,b))"
   ]
  },
  {
   "cell_type": "code",
   "execution_count": 10,
   "metadata": {},
   "outputs": [
    {
     "name": "stdout",
     "output_type": "stream",
     "text": [
      "a>b: [False False]\n",
      "a>=b [False  True]\n",
      "a<b: [ True False]\n",
      "a<=b [ True  True]\n"
     ]
    }
   ],
   "source": [
    "#12. Write a NumPy program compare two given arrays.\n",
    "\n",
    "a=np.array([1,4])\n",
    "b=np.array([3,4])\n",
    "print('a>b:',a>b)\n",
    "print('a>=b',a>= b)\n",
    "print('a<b:',a< b)\n",
    "print('a<=b',a<= b)"
   ]
  },
  {
   "cell_type": "code",
   "execution_count": 11,
   "metadata": {},
   "outputs": [
    {
     "name": "stdout",
     "output_type": "stream",
     "text": [
      "1d : [ 1  2  3  4  5  6  7  8  9 10 11 12 13 14 15 16 17 18 19 20 21 22 23 24\n",
      " 25 26 27]\n",
      "2d : [[ 1  2  3  4  5  6  7  8  9]\n",
      " [10 11 12 13 14 15 16 17 18]\n",
      " [19 20 21 22 23 24 25 26 27]]\n",
      "3d : [[[ 1  2  3]\n",
      "  [ 4  5  6]\n",
      "  [ 7  8  9]]\n",
      "\n",
      " [[10 11 12]\n",
      "  [13 14 15]\n",
      "  [16 17 18]]\n",
      "\n",
      " [[19 20 21]\n",
      "  [22 23 24]\n",
      "  [25 26 27]]]\n"
     ]
    }
   ],
   "source": [
    "#14. Write a NumPy program to create 1D array and convert 1D array to 2D array and 3d\n",
    "a=np.array(np.arange(1,28))\n",
    "print('1d :',a)\n",
    "b=a.reshape(3,9)\n",
    "print('2d :',b)\n",
    "print('3d :',b.reshape(3,3,3))"
   ]
  },
  {
   "cell_type": "code",
   "execution_count": 12,
   "metadata": {},
   "outputs": [
    {
     "name": "stdout",
     "output_type": "stream",
     "text": [
      "a: [1 2 3]\n",
      "[1 2 3 4 5 6]\n",
      "[[1 2 3]\n",
      " [4 5 6]]\n"
     ]
    }
   ],
   "source": [
    "#15. Write a NumPy program to implement vstack and hstack method on 2D array\n",
    "a=np.array([1,2,3])\n",
    "print('a:',a)\n",
    "print(np.hstack((a,[4,5,6])))\n",
    "print(np.vstack((a,[4,5,6])))"
   ]
  },
  {
   "cell_type": "code",
   "execution_count": 2,
   "metadata": {},
   "outputs": [],
   "source": [
    "import numpy as np\n"
   ]
  },
  {
   "cell_type": "code",
   "execution_count": 10,
   "metadata": {},
   "outputs": [],
   "source": [
    "a = np.abs(30)"
   ]
  },
  {
   "cell_type": "code",
   "execution_count": 11,
   "metadata": {},
   "outputs": [
    {
     "data": {
      "text/plain": [
       "30"
      ]
     },
     "execution_count": 11,
     "metadata": {},
     "output_type": "execute_result"
    }
   ],
   "source": [
    "a"
   ]
  },
  {
   "cell_type": "code",
   "execution_count": null,
   "metadata": {},
   "outputs": [],
   "source": []
  }
 ],
 "metadata": {
  "kernelspec": {
   "display_name": "base",
   "language": "python",
   "name": "python3"
  },
  "language_info": {
   "codemirror_mode": {
    "name": "ipython",
    "version": 3
   },
   "file_extension": ".py",
   "mimetype": "text/x-python",
   "name": "python",
   "nbconvert_exporter": "python",
   "pygments_lexer": "ipython3",
   "version": "3.8.5 (default, Sep  3 2020, 21:29:08) [MSC v.1916 64 bit (AMD64)]"
  },
  "orig_nbformat": 4,
  "vscode": {
   "interpreter": {
    "hash": "610a6f344c2137faf927ea819c63f6cee33a2c04455044b28099f39fe9722347"
   }
  }
 },
 "nbformat": 4,
 "nbformat_minor": 2
}
